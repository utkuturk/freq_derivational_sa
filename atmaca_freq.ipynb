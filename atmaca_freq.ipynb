{
 "cells": [
  {
   "cell_type": "code",
   "execution_count": null,
   "metadata": {},
   "outputs": [],
   "source": [
    "import rpy2.robjects as robjects\n",
    "from rpy2.robjects import pandas2ri\n",
    "readRDS = robjects.r['readRDS']\n",
    "df = readRDS('./atmaca_data/acceptability_df.rds')\n",
    "df = pandas2ri.rpy2py_dataframe(df)"
   ]
  }
 ],
 "metadata": {
  "language_info": {
   "name": "python"
  }
 },
 "nbformat": 4,
 "nbformat_minor": 2
}
